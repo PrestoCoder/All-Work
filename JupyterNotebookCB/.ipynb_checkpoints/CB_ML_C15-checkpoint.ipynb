{
 "cells": [
  {
   "cell_type": "markdown",
   "id": "e51ebcb5",
   "metadata": {},
   "source": [
    "## H.W."
   ]
  },
  {
   "cell_type": "code",
   "execution_count": 4,
   "id": "18934f22",
   "metadata": {},
   "outputs": [],
   "source": [
    "from urllib.request import urlopen\n",
    "from bs4 import BeautifulSoup as soup"
   ]
  },
  {
   "cell_type": "code",
   "execution_count": 5,
   "id": "43e0c4ed",
   "metadata": {},
   "outputs": [],
   "source": [
    "websiteUrl = 'https://www.snapdeal.com/search?keyword=mobile&santizedKeyword=macbook&catId=0&categoryId=0&suggested=false&vertical=p&noOfResults=20&searchState=&clickSrc=go_header&lastKeyword=&prodCatId=&changeBackToAll=false&foundInAll=false&categoryIdSearched=&cityPageUrl=&categoryUrl=&url=&utmContent=&dealDetail=&sort=rlvncy';"
   ]
  },
  {
   "cell_type": "code",
   "execution_count": 8,
   "id": "62537c01",
   "metadata": {},
   "outputs": [],
   "source": [
    "httpResponse = urlopen(websiteUrl);\n",
    "htmlData = httpResponse.read();\n",
    "httpResponse.close();\n",
    "# Full html page, in which tags can now be searched using class and id names\n",
    "htmlPage = soup(htmlData, 'html.parser');"
   ]
  },
  {
   "cell_type": "code",
   "execution_count": 9,
   "id": "bc84a3a2",
   "metadata": {
    "scrolled": true
   },
   "outputs": [
    {
     "data": {
      "text/plain": [
       "[<img class=\"product-image\" src=\"https://n2.sdlcdn.com/imgs/k/l/t/230X258_sharpened/Karbonn-K531-Dual-SIM-Feature-SDL939118366-1-ca3bf.jpg\" title=\"Karbonn K531 Dual SIM Feature Phone Black Red\"/>,\n",
       " <img class=\"product-image\" src=\"https://n3.sdlcdn.com/imgs/k/a/z/230X258_sharpened/Elv-Universal-Mobile-Phone-Stand-SDL034760993-1-36598.jpeg\" title=\"NBOX - Card Holder Mobile Holder for Smartphones ( Black )\"/>,\n",
       " <img class=\"product-image\" src=\"https://n2.sdlcdn.com/imgs/k/l/t/230X258_sharpened/Karbonn-K531-Dual-SIM-Feature-SDL947245747-1-442d6.jpg\" title=\"Karbonn K531 Dual SIM Feature Phone Green\"/>,\n",
       " <img class=\"product-image\" src=\"https://n3.sdlcdn.com/imgs/k/l/t/230X258_sharpened/Karbonn-K531-Dual-SIM-Feature-SDL939750297-1-e9874.jpg\" title=\"Karbonn K531 Dual SIM Feature Phone White Red\"/>,\n",
       " <img class=\"product-image lazy-load\" data-src=\"https://n1.sdlcdn.com/imgs/k/l/t/230X258_sharpened/Karbonn-K531-Dual-SIM-Feature-SDL974090244-1-d875a.jpg\" title=\"Karbonn K531 Dual SIM Feature Phone Blue\"/>,\n",
       " <img class=\"product-image lazy-load\" data-src=\"https://n3.sdlcdn.com/imgs/k/l/t/230X258_sharpened/Nokia-225-4G-Dual-SIM-SDL630041743-1-c35d2.jpg\" title=\"Nokia 225 4G Dual SIM Feature Phone Blue\"/>,\n",
       " <img class=\"product-image lazy-load\" data-src=\"https://n3.sdlcdn.com/imgs/j/u/i/230X258_sharpened/NBOX-Mobile-Stand-with-Selfie-SDL209147105-1-0112b.jpeg\" title=\"NBOX Bluetooth Extendable Selfie Sticks with Wireless Remote and Tripod Stand, 3-in-1 Multifunctional Selfie Stick with Tripod Stand Compatible with iPhone/OnePlus/Samsung/Oppo/Vivo and All Phones\"/>,\n",
       " <img class=\"product-image lazy-load\" data-src=\"https://n1.sdlcdn.com/imgs/k/l/q/230X258_sharpened/NBOX-Mobile-Holder-SDL173832179-2-afa22.jpg\" title=\"NBOX - Wall Mount Mobile Holder for all Smartphone &amp; Multipurpose (Brown)\"/>,\n",
       " <img class=\"product-image lazy-load\" data-src=\"https://n4.sdlcdn.com/imgs/k/m/g/230X258_sharpened/NBOX-Remote-Holder-Mobile-Holder-SDL804557112-1-61240.jpg\" title=\"NBOX - Remote Holder Mobile Holder for Smartphones ( Multicolor )\"/>,\n",
       " <img class=\"product-image lazy-load\" data-src=\"https://n4.sdlcdn.com/imgs/k/m/e/230X258_sharpened/NBOX-None-Mobile-Holder-for-SDL401425304-1-e524a.jpeg\" title=\"NBOX - Wall Mount Mobile Holder for all Smartphone &amp; Multipurpose (Brown)\"/>,\n",
       " <img class=\"product-image lazy-load\" data-src=\"https://n1.sdlcdn.com/imgs/k/l/k/230X258_sharpened/NBOX-Black-2-4-A-SDL824775556-1-3b9c6.png\" title=\"NBOX Black 2.4A Braided 3 in 1 Multipin Phone Mobile Cable 1.2 meter\"/>,\n",
       " <img class=\"product-image lazy-load\" data-src=\"https://n4.sdlcdn.com/imgs/j/s/5/230X258_sharpened/SelfieStick_1-0524c.jpg\" title=\"NBOX Bluetooth Extendable Selfie Stick with Tripod Stand and Wireless Remote,3-in-1 Multifunctional Selfie Stick Tripod for iPhone Samsung Mi Realme Oppo Vivo Google More,Black\"/>,\n",
       " <img class=\"product-image lazy-load\" data-src=\"https://n4.sdlcdn.com/imgs/j/y/4/230X258_sharpened/ELV-Wall-Mount-Mobile-Holder-SDL933444055-1-6665c.jpg\" title=\"NBOX - Remote Holder Mobile Holder for Smartphones ( Black )\"/>,\n",
       " <img class=\"product-image lazy-load\" data-src=\"https://n3.sdlcdn.com/imgs/k/l/a/230X258_sharpened/NBOX-Black-3A-Micro-USB-SDL995170324-1-0f762.png\" title=\"NBOX Black 3A PVC Micro USB Fast Charging Data Transfer Phone Mobile Cable 1 meter Pack of 3\"/>,\n",
       " <img class=\"product-image lazy-load\" data-src=\"https://n1.sdlcdn.com/imgs/k/l/q/230X258_sharpened/NBOX-Mobile-Holder-SDL880795467-1-bbe47.jpg\" title=\"NBOX - Wall Mount Mobile Holder for all Smartphone &amp; Multipurpose (Brown)\"/>,\n",
       " <img class=\"product-image lazy-load\" data-src=\"https://n3.sdlcdn.com/imgs/k/l/k/230X258_sharpened/NBOX-Mobile-Holder-SDL087397972-1-fbbbe.jpeg\" title=\"NBOX Metal Adjustable Mobile Phone Foldable Holder Stand Dock Mount with Big Back Support to Hold (Upto 10inch) of iPhone, iPad, Smartphones, Tablets, Kindle (Black)\"/>,\n",
       " <img class=\"product-image lazy-load\" data-src=\"https://n3.sdlcdn.com/imgs/k/l/a/230X258_sharpened/NBOX-Black-3A-Type-C-SDL280911165-1-d37d5.png\" title=\"NBOX Black 3A PVC Type C Fast Charging Data Transfer Phone Mobile Cable 1 meter\"/>,\n",
       " <img class=\"product-image lazy-load\" data-src=\"https://n2.sdlcdn.com/imgs/k/l/q/230X258_sharpened/NBOX-Mobile-Holder-SDL209698033-1-20957.jpg\" title=\"NBOX - Wall Mount Mobile Holder for all Smartphone &amp; Multipurpose (Brown)\"/>,\n",
       " <img class=\"product-image lazy-load\" data-src=\"https://n1.sdlcdn.com/imgs/k/l/a/230X258_sharpened/NBOX-Black-3A-Micro-USB-SDL232341709-1-d780a.png\" title=\"NBOX Black 3A Braided Micro USB Fast Charging Data Transfer Mobile Phone Cable 1 meter Pack of 2\"/>,\n",
       " <img class=\"product-image lazy-load\" data-src=\"https://n1.sdlcdn.com/imgs/k/l/9/230X258_sharpened/NBOX-None-Mobile-Holder-for-SDL178507274-1-709bd.jpg\" title=\"NBOX - None Mobile Holder for Smartphones and Tablets ( Brown )\"/>]"
      ]
     },
     "execution_count": 9,
     "metadata": {},
     "output_type": "execute_result"
    }
   ],
   "source": [
    "imageTags = htmlPage.find_all('img',{'class':'product-image'})\n",
    "imageTags"
   ]
  },
  {
   "cell_type": "code",
   "execution_count": 22,
   "id": "0325e819",
   "metadata": {},
   "outputs": [],
   "source": [
    "import requests\n",
    "import shutil"
   ]
  },
  {
   "cell_type": "code",
   "execution_count": null,
   "id": "a792ea50",
   "metadata": {},
   "outputs": [],
   "source": [
    "i = 0;\n",
    "for imageTag in imageTags:\n",
    "\n",
    "    try:\n",
    "        imageUrl = imageTag.attrs['src'];\n",
    "    except KeyError:\n",
    "        imageUrl = imageTag.attrs['data-src'];\n",
    "    except:\n",
    "        print(\"Not able to find known image source attribute in image tag\\nLeaving Image\");\n",
    "        \n",
    "    fileName = 'Data Scrapping Images/image_' + str(i) + '.jpg';\n",
    "    res = requests.get(imageUrl, stream = True);\n",
    "    \n",
    "    if res.status_code == 200:\n",
    "        with open(fileName,'wb') as f:\n",
    "            shutil.copyfileobj(res.raw, f)\n",
    "        print('Image sucessfully Downloaded: ',fileName)\n",
    "    else:\n",
    "        print('Image Couldn\\'t be retrieved')\n",
    "    i+=1"
   ]
  }
 ],
 "metadata": {
  "kernelspec": {
   "display_name": "Python 3 (ipykernel)",
   "language": "python",
   "name": "python3"
  },
  "language_info": {
   "codemirror_mode": {
    "name": "ipython",
    "version": 3
   },
   "file_extension": ".py",
   "mimetype": "text/x-python",
   "name": "python",
   "nbconvert_exporter": "python",
   "pygments_lexer": "ipython3",
   "version": "3.11.1"
  }
 },
 "nbformat": 4,
 "nbformat_minor": 5
}
