{
 "cells": [
  {
   "cell_type": "code",
   "execution_count": 1,
   "id": "e53dd94f",
   "metadata": {},
   "outputs": [],
   "source": [
    "import numpy as np"
   ]
  },
  {
   "cell_type": "code",
   "execution_count": 21,
   "id": "4b70062a",
   "metadata": {},
   "outputs": [],
   "source": [
    "import matplotlib.pyplot as plt"
   ]
  },
  {
   "cell_type": "code",
   "execution_count": 3,
   "id": "011960ef",
   "metadata": {},
   "outputs": [],
   "source": [
    "import pandas as pd"
   ]
  },
  {
   "cell_type": "code",
   "execution_count": 7,
   "id": "c7c69a4e",
   "metadata": {},
   "outputs": [],
   "source": [
    "numTrainingExamples = 100;\n",
    "numFeatures = 1;\n",
    "m = numTrainingExamples;\n",
    "n = numFeatures;"
   ]
  },
  {
   "cell_type": "code",
   "execution_count": 60,
   "id": "53bd632a",
   "metadata": {},
   "outputs": [
    {
     "data": {
      "text/plain": [
       "(2, 1)"
      ]
     },
     "execution_count": 60,
     "metadata": {},
     "output_type": "execute_result"
    }
   ],
   "source": [
    "thetas = np.zeros(n + 1);\n",
    "thetas = thetas.reshape(n + 1, 1)\n",
    "thetas.shape"
   ]
  },
  {
   "cell_type": "code",
   "execution_count": 61,
   "id": "e616be47",
   "metadata": {
    "scrolled": true
   },
   "outputs": [
    {
     "data": {
      "text/plain": [
       "(100, 1)"
      ]
     },
     "execution_count": 61,
     "metadata": {},
     "output_type": "execute_result"
    }
   ],
   "source": [
    "x = np.linspace(0, 10, 100);\n",
    "x = x.reshape(100, 1)\n",
    "x.shape"
   ]
  },
  {
   "cell_type": "code",
   "execution_count": 62,
   "id": "b5523e5f",
   "metadata": {},
   "outputs": [],
   "source": [
    "noise = 10*np.random.random((100, 1))"
   ]
  },
  {
   "cell_type": "code",
   "execution_count": 63,
   "id": "4f3dd8f0",
   "metadata": {},
   "outputs": [],
   "source": [
    "y = 3*x  + noise;"
   ]
  },
  {
   "cell_type": "code",
   "execution_count": 64,
   "id": "6b2471f1",
   "metadata": {},
   "outputs": [
    {
     "data": {
      "text/plain": [
       "<matplotlib.collections.PathCollection at 0x216ebe1f050>"
      ]
     },
     "execution_count": 64,
     "metadata": {},
     "output_type": "execute_result"
    },
    {
     "data": {
      "image/png": "[encoded data removed]",
      "text/plain": [
       "<Figure size 640x480 with 1 Axes>"
      ]
     },
     "metadata": {},
     "output_type": "display_data"
    }
   ],
   "source": [
    "plt.scatter(x, y)"
   ]
  },
  {
   "cell_type": "code",
   "execution_count": 65,
   "id": "1a534c92",
   "metadata": {},
   "outputs": [],
   "source": [
    "numEpochs = 100;"
   ]
  },
  {
   "cell_type": "code",
   "execution_count": 66,
   "id": "3523dd84",
   "metadata": {},
   "outputs": [],
   "source": [
    "alpha = 0.001;"
   ]
  },
  {
   "cell_type": "code",
   "execution_count": null,
   "id": "53346cd9",
   "metadata": {},
   "outputs": [],
   "source": [
    "def hypothesisFun(thetas, example):\n",
    "    y_pred = np.dot(thetas.T, example);\n",
    "    return y_pred;"
   ]
  },
  {
   "cell_type": "code",
   "execution_count": null,
   "id": "d91164ef",
   "metadata": {},
   "outputs": [],
   "source": [
    "def calcdJ(thetas, x, y):\n",
    "    for i in range(x.shape[0]):\n",
    "        example = x[i];\n",
    "        y_pred = hypothesisFun(thetas, example);\n",
    "        "
   ]
  },
  {
   "cell_type": "code",
   "execution_count": null,
   "id": "b0daf77a",
   "metadata": {},
   "outputs": [],
   "source": [
    "for i in range(numEpochs):\n",
    "    dJ = calcdJ(thetas, x, y);\n",
    "    thetas = thetas - alpha*dJ;"
   ]
  }
 ],
 "metadata": {
  "kernelspec": {
   "display_name": "Python 3 (ipykernel)",
   "language": "python",
   "name": "python3"
  },
  "language_info": {
   "codemirror_mode": {
    "name": "ipython",
    "version": 3
   },
   "file_extension": ".py",
   "mimetype": "text/x-python",
   "name": "python",
   "nbconvert_exporter": "python",
   "pygments_lexer": "ipython3",
   "version": "3.11.1"
  }
 },
 "nbformat": 4,
 "nbformat_minor": 5
}
